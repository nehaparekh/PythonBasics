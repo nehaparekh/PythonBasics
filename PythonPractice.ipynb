{
 "cells": [
  {
   "cell_type": "code",
   "execution_count": 1,
   "metadata": {},
   "outputs": [],
   "source": [
    "import pandas as pd\n",
    "import numpy as np\n",
    "import matplotlib.pyplot as plt\n",
    "import seaborn as sns\n",
    "import statsmodels as sm\n",
    "from datetime import datetime, date, time"
   ]
  },
  {
   "cell_type": "code",
   "execution_count": 31,
   "metadata": {},
   "outputs": [
    {
     "name": "stdout",
     "output_type": "stream",
     "text": [
      "[1, 2, 3]\n",
      "[1, 2, 3, 4]\n",
      "[1, 2, 3, 4]\n"
     ]
    }
   ],
   "source": [
    "# Object is not copied but referred -> Pass by reference\n",
    "\n",
    "a = [1,2,3]\n",
    "b = a\n",
    "print(b)\n",
    "a.append(4)\n",
    "print(a)\n",
    "print(b)"
   ]
  },
  {
   "cell_type": "code",
   "execution_count": 52,
   "metadata": {},
   "outputs": [
    {
     "name": "stdout",
     "output_type": "stream",
     "text": [
      "3\n",
      "4\n",
      "3\n"
     ]
    }
   ],
   "source": [
    "# primdata type is copied -> Pass by value\n",
    "a = 3\n",
    "b = a\n",
    "print(b)\n",
    "a = 4\n",
    "print(a)\n",
    "print(b)"
   ]
  },
  {
   "cell_type": "code",
   "execution_count": 53,
   "metadata": {},
   "outputs": [],
   "source": [
    "#Using ? and ??\n",
    "\n",
    "def add_numbers(a, b):\n",
    "    \"\"\"\n",
    "    Add two numbers together\n",
    "    Returns\n",
    "    -------\n",
    "    the_sum : type of arguments\n",
    "    \"\"\"\n",
    "    return a + b\n",
    "\n",
    "# add_numbers?\n",
    "# add_numbers??"
   ]
  },
  {
   "cell_type": "code",
   "execution_count": 54,
   "metadata": {},
   "outputs": [],
   "source": [
    "# a + b Add a and b\n",
    "# a - b Subtract b from a\n",
    "# a * b Multiply a by b\n",
    "# a / b Divide a by b\n",
    "# a // b Floor-divide a by b, dropping any fractional remainder\n",
    "# a ** b Raise a to the b power\n",
    "# a & b True if both a and b are True; for integers, take the bitwise AND\n",
    "# a | b True if either a or b is True; for integers, take the bitwise OR\n",
    "# a ^ b For booleans, True if a or b is True, but not both; for integers, take the bitwise EXCLUSIVE-OR\n",
    "# a == b True if a equals b\n",
    "# a != b True if a is not equal to b\n",
    "# a <= b, a < b True if a is less than (less than or equal) to b\n",
    "# a > b, a >= b True if a is greater than (greater than or equal) to b\n",
    "# a is b True if a and b reference the same Python object\n",
    "# a is not b True if a and b reference different Python objects"
   ]
  },
  {
   "cell_type": "code",
   "execution_count": 61,
   "metadata": {},
   "outputs": [],
   "source": [
    "# objects in Python, such as lists, dicts, NumPy arrays, and most user-defined types (classes), are mutable\n",
    "# strings and tuples, are immutable:\n",
    "a_tuple = (3, 5, (4, 5), \"four\")\n",
    "# a_tuple[1] = 'four'\n"
   ]
  },
  {
   "cell_type": "code",
   "execution_count": 5,
   "metadata": {},
   "outputs": [
    {
     "name": "stdout",
     "output_type": "stream",
     "text": [
      "h\n",
      "pyt\n",
      "12\u001c",
      "\n",
      "12\\34\n",
      "{0:.2f} {1:s} are worth US${2:d}\n",
      "4.56 Argentine Pesos are worth US$1\n"
     ]
    }
   ],
   "source": [
    "s = 'python'\n",
    "print(s[3])\n",
    "\n",
    "#######################\n",
    "\n",
    "s = 'python'\n",
    "print(s[:3])\n",
    "#######################\n",
    "\n",
    "s = '12\\34'\n",
    "print(s)\n",
    "\n",
    "#######################\n",
    "\n",
    "s = '12\\\\34'\n",
    "print(s)\n",
    "\n",
    "#####################\n",
    "\n",
    "template = '{0:.2f} {1:s} are worth US${2:d}'\n",
    "temp1 = template.format(4.5560, 'Argentine Pesos', 1)\n",
    "\n",
    "print(template)\n",
    "print(temp1)"
   ]
  },
  {
   "cell_type": "code",
   "execution_count": 78,
   "metadata": {},
   "outputs": [],
   "source": [
    "# # Date time\n",
    "\n",
    "\n",
    "# %m Two-digit month [01, 12]\n",
    "# %d Two-digit day [01, 31]\n",
    "# %H Hour (24-hour clock) [00, 23]\n",
    "# %I Hour (12-hour clock) [01, 12]\n",
    "# %M Two-digit minute [00, 59]\n",
    "# %S Second [00, 61] (seconds 60, 61 account for leap seconds)\n",
    "# %w Weekday as integer [0 (Sunday), 6]\n",
    "# %U Week number of the year [00, 53]; Sunday is considered the first day of the week, and days before the first Sunday of\n",
    "# the year are “week 0”\n",
    "# %W Week number of the year [00, 53]; Monday is considered the first day of the week, and days before the first Monday of\n",
    "# the year are “week 0”\n",
    "# %z UTC time zone offset as +HHMM or -HHMM; empty if time zone naive\n",
    "# %F Shortcut for %Y-%m-%d (e.g., 2012-4-18)\n",
    "# %D Shortcut for %m/%d/%y (e.g., 04/18/12)"
   ]
  },
  {
   "cell_type": "code",
   "execution_count": 47,
   "metadata": {},
   "outputs": [
    {
     "name": "stdout",
     "output_type": "stream",
     "text": [
      "2020-03-26\n",
      "10/31/20\n"
     ]
    }
   ],
   "source": [
    "import datetime as dt\n",
    "\n",
    "date = dt.datetime.now()\n",
    "print(date.strftime('%F'))\n",
    "\n",
    "date1 = dt.datetime(2020,10,31,23,10,00)\n",
    "print(date1.strftime(\"%D\"))"
   ]
  },
  {
   "cell_type": "code",
   "execution_count": 91,
   "metadata": {},
   "outputs": [],
   "source": [
    "seq = [(1, 2, 3), (4, 5, 6), (7, 8, 9)]"
   ]
  },
  {
   "cell_type": "code",
   "execution_count": 93,
   "metadata": {},
   "outputs": [
    {
     "name": "stdout",
     "output_type": "stream",
     "text": [
      "a=3, b=2, c=1\n",
      "a=6, b=5, c=4\n",
      "a=9, b=8, c=7\n"
     ]
    }
   ],
   "source": [
    "for a, b, c in seq:\n",
    "    print('a={2}, b={1}, c={0}'.format(a, b, c))  "
   ]
  },
  {
   "cell_type": "code",
   "execution_count": 48,
   "metadata": {},
   "outputs": [
    {
     "name": "stdout",
     "output_type": "stream",
     "text": [
      "foo\n",
      "0\n",
      "bar\n",
      "1\n",
      "baz\n",
      "2\n"
     ]
    },
    {
     "data": {
      "text/plain": [
       "{0: 'foo', 1: 'bar', 2: 'baz'}"
      ]
     },
     "execution_count": 48,
     "metadata": {},
     "output_type": "execute_result"
    }
   ],
   "source": [
    "# Used to access index\n",
    "\n",
    "some_list = ['foo', 'bar', 'baz']\n",
    "mapping = {}\n",
    "for i, v in enumerate(some_list):\n",
    "    print(v)\n",
    "    print(i)\n",
    "    mapping[i] = v\n",
    "\n",
    "mapping"
   ]
  },
  {
   "cell_type": "code",
   "execution_count": 99,
   "metadata": {},
   "outputs": [
    {
     "name": "stdout",
     "output_type": "stream",
     "text": [
      "1\n",
      "{1, 2, 3, 4, 5}\n",
      "value1\n",
      "2\n",
      "{'c', 'a', 'b'}\n"
     ]
    }
   ],
   "source": [
    "# Set, list, tuple and dictionary --> Python\n",
    "# Series, dataframe --> Numpy and pandas. Numpy and pandas are libraries used for DS and were written in C which makes them \n",
    "# very fast in operations\n",
    "\n",
    "# Eg.\n",
    "\n",
    "list_a = [1,2,3,4,1,2,3] # duplicates can be stored\n",
    "set_a = set([5,4,1,2,3,4,1,2,3]) # will not store duplicate values\n",
    "tuple_a = (1,2,3,4,1,2,3) # Immutable ; values cannot be added nor changed\n",
    "dict_a = {\"a\":\"value1\", \"b\":3}\n",
    "set_b = set({\"a\", \"b\", \"a\",\"c\"})\n",
    "\n",
    "print(list_a[0])\n",
    "print(set_a)\n",
    "print(dict_a[\"a\"])\n",
    "print(tuple_a[1])\n",
    "print(set_b)"
   ]
  },
  {
   "cell_type": "code",
   "execution_count": 57,
   "metadata": {},
   "outputs": [
    {
     "name": "stdout",
     "output_type": "stream",
     "text": [
      "{1, 2, 3, 4}\n",
      "[1, 2, 3, 4]\n"
     ]
    }
   ],
   "source": [
    "set_b = set(list_a)\n",
    "list_b = list(set_b)\n",
    "\n",
    "print(set_b)\n",
    "print(list_b)"
   ]
  },
  {
   "cell_type": "markdown",
   "metadata": {},
   "source": [
    "# For Loops"
   ]
  },
  {
   "cell_type": "code",
   "execution_count": 111,
   "metadata": {},
   "outputs": [
    {
     "name": "stdout",
     "output_type": "stream",
     "text": [
      "5\n",
      "6\n",
      "7\n",
      "8\n",
      "9\n",
      "=================\n",
      "10\n",
      "9\n",
      "8\n",
      "7\n",
      "6\n",
      "5\n",
      "4\n",
      "=================\n",
      "0\n",
      "neha\n",
      "1\n",
      "parekh\n",
      "2\n",
      "mehul\n"
     ]
    }
   ],
   "source": [
    "for i in range(5,10):\n",
    "    print(i)\n",
    "\n",
    "print(\"=================\")\n",
    "\n",
    "\n",
    "for i in range(10,3,-1):\n",
    "    print(i)\n",
    "\n",
    "print(\"=================\")\n",
    "\n",
    "\n",
    "list_a = [\"neha\", \"parekh\", \"mehul\"]    \n",
    "for index, value in enumerate(list_a):\n",
    "    print(index)\n",
    "    print(value)\n"
   ]
  },
  {
   "cell_type": "markdown",
   "metadata": {},
   "source": [
    "# Functions"
   ]
  },
  {
   "cell_type": "code",
   "execution_count": 64,
   "metadata": {},
   "outputs": [
    {
     "name": "stdout",
     "output_type": "stream",
     "text": [
      "10000\n"
     ]
    }
   ],
   "source": [
    "def my_fun(x):\n",
    "    return x*x;\n",
    "    \n",
    "a = my_fun(100) \n",
    "print(a)"
   ]
  },
  {
   "cell_type": "code",
   "execution_count": 67,
   "metadata": {},
   "outputs": [
    {
     "name": "stdout",
     "output_type": "stream",
     "text": [
      "10000\n"
     ]
    }
   ],
   "source": [
    "equiv_anon = lambda x: x * x\n",
    "\n",
    "a = equiv_anon(100)\n",
    "print(a)\n"
   ]
  },
  {
   "cell_type": "code",
   "execution_count": 75,
   "metadata": {},
   "outputs": [
    {
     "name": "stdout",
     "output_type": "stream",
     "text": [
      "[1, 4, 9, 16, 25, 36]\n"
     ]
    }
   ],
   "source": [
    "list_a = [1,2,3,4,5,6]\n",
    "list_b = []\n",
    "lamb_fun = lambda x: x*x\n",
    "\n",
    "for i in range(0,6,1):\n",
    "    b = lamb_fun(list_a[i])\n",
    "    list_b.append(b)\n",
    "\n",
    "print(list_b)"
   ]
  },
  {
   "cell_type": "markdown",
   "metadata": {},
   "source": [
    "# NumPy"
   ]
  },
  {
   "cell_type": "code",
   "execution_count": 71,
   "metadata": {},
   "outputs": [],
   "source": [
    "import numpy as np"
   ]
  },
  {
   "cell_type": "code",
   "execution_count": 72,
   "metadata": {},
   "outputs": [],
   "source": [
    "arr = np.array([1,2,3,4])"
   ]
  },
  {
   "cell_type": "code",
   "execution_count": 125,
   "metadata": {},
   "outputs": [
    {
     "name": "stdout",
     "output_type": "stream",
     "text": [
      "[[0. 0. 0.]\n",
      " [0. 0. 0.]]\n",
      "=================\n",
      "[[1. 1. 1.]\n",
      " [1. 1. 1.]]\n",
      "=================\n",
      "[[[ 0.  0.  0.]\n",
      "  [ 0.  0.  0.]\n",
      "  [ 0.  0.  0.]]\n",
      "\n",
      " [[ 0.  0.  0.]\n",
      "  [ 0.  0.  0.]\n",
      "  [ 0.  0. 10.]]]\n"
     ]
    }
   ],
   "source": [
    "arr1 = np.zeros((2,3))\n",
    "print(arr1)\n",
    "\n",
    "\n",
    "print(\"=================\")\n",
    "\n",
    "\n",
    "arr2 = np.ones_like(arr1)\n",
    "print(arr2)\n",
    "\n",
    "\n",
    "print(\"=================\")\n",
    "\n",
    "\n",
    "arr3 = np.empty((2,3,3))\n",
    "arr3[1,2,2] = 10\n",
    "print(arr3)"
   ]
  },
  {
   "cell_type": "code",
   "execution_count": 36,
   "metadata": {},
   "outputs": [],
   "source": [
    "lis = [1,1,3,4]\n",
    "\n",
    "lis.append(4)\n",
    "\n",
    "if 5 in lis:\n",
    "    print(\"yes\")\n"
   ]
  },
  {
   "cell_type": "code",
   "execution_count": 37,
   "metadata": {},
   "outputs": [
    {
     "data": {
      "text/plain": [
       "[1, 1, 3, 4, 4]"
      ]
     },
     "execution_count": 37,
     "metadata": {},
     "output_type": "execute_result"
    }
   ],
   "source": [
    "lis"
   ]
  },
  {
   "cell_type": "code",
   "execution_count": 18,
   "metadata": {},
   "outputs": [
    {
     "name": "stdout",
     "output_type": "stream",
     "text": [
      "yes\n"
     ]
    }
   ],
   "source": [
    "\n",
    "\n",
    "set_a = set((1,2,3))\n",
    "set_a.add(4)\n",
    "set_a\n",
    "set_a.remove(2)\n",
    "set_a\n",
    "\n",
    "if 3 in set_a:\n",
    "    print(\"yes\")"
   ]
  },
  {
   "cell_type": "code",
   "execution_count": 23,
   "metadata": {},
   "outputs": [
    {
     "name": "stdout",
     "output_type": "stream",
     "text": [
      "0   1\n",
      "1   1\n",
      "2   3\n",
      "3   4\n",
      "4   4\n"
     ]
    }
   ],
   "source": [
    "for index, ele in enumerate(lis):\n",
    "    print(index,\" \", ele)"
   ]
  },
  {
   "cell_type": "code",
   "execution_count": 58,
   "metadata": {},
   "outputs": [
    {
     "name": "stdout",
     "output_type": "stream",
     "text": [
      "{1: '2', 2: '4', 3: '6', 4: '10'}\n",
      "2\n",
      "4\n",
      "6\n",
      "10\n",
      "yes\n"
     ]
    },
    {
     "data": {
      "text/plain": [
       "{1: '2', 3: '6', 4: '10'}"
      ]
     },
     "execution_count": 58,
     "metadata": {},
     "output_type": "execute_result"
    }
   ],
   "source": [
    "map_a = {1:\"2\",2:\"4\",3:\"6\",4:\"10\"}\n",
    "\n",
    "print(map_a)\n",
    "\n",
    "for ele in map_a:\n",
    "    print(map_a[ele])\n",
    "    \n",
    "if 3 in map_a:\n",
    "    print(\"yes\")\n",
    "    \n",
    "del map_a[2]\n",
    "\n",
    "map_a"
   ]
  },
  {
   "cell_type": "code",
   "execution_count": 38,
   "metadata": {},
   "outputs": [
    {
     "data": {
      "text/plain": [
       "[1, 1, 3, 4, 4]"
      ]
     },
     "execution_count": 38,
     "metadata": {},
     "output_type": "execute_result"
    }
   ],
   "source": [
    "lis_2 = [i+1 for i in lis]"
   ]
  },
  {
   "cell_type": "code",
   "execution_count": 59,
   "metadata": {},
   "outputs": [],
   "source": [
    "map_b = sorted(map_a.values(), key = lambda a : -int(a) )\n"
   ]
  },
  {
   "cell_type": "code",
   "execution_count": 60,
   "metadata": {},
   "outputs": [
    {
     "data": {
      "text/plain": [
       "['10', '6', '2']"
      ]
     },
     "execution_count": 60,
     "metadata": {},
     "output_type": "execute_result"
    }
   ],
   "source": [
    "map_b"
   ]
  },
  {
   "cell_type": "markdown",
   "metadata": {},
   "source": [
    "### Indexing in Python"
   ]
  },
  {
   "cell_type": "code",
   "execution_count": 3,
   "metadata": {},
   "outputs": [],
   "source": [
    "date_index = pd.date_range('20200402', periods=6)"
   ]
  },
  {
   "cell_type": "code",
   "execution_count": 7,
   "metadata": {},
   "outputs": [],
   "source": [
    "dataframe_1 = pd.DataFrame(np.random.rand(6,4), columns= list('ABCD'), index = date_index)"
   ]
  },
  {
   "cell_type": "code",
   "execution_count": 8,
   "metadata": {},
   "outputs": [
    {
     "data": {
      "text/plain": [
       "array([3., 3., 3., 3.])"
      ]
     },
     "execution_count": 8,
     "metadata": {},
     "output_type": "execute_result"
    }
   ],
   "source": [
    "np.array([3]*4, dtype = float)"
   ]
  },
  {
   "cell_type": "code",
   "execution_count": 49,
   "metadata": {},
   "outputs": [
    {
     "data": {
      "text/plain": [
       "DatetimeIndex(['2020-04-01', '2020-04-02', '2020-04-03', '2020-04-04'], dtype='datetime64[ns]', freq=None)"
      ]
     },
     "execution_count": 49,
     "metadata": {},
     "output_type": "execute_result"
    }
   ],
   "source": [
    "index_df2 = pd.date_range('20200401', '2020-04-04', periods = 4)\n",
    "\n",
    "index_df2"
   ]
  },
  {
   "cell_type": "code",
   "execution_count": 62,
   "metadata": {},
   "outputs": [
    {
     "data": {
      "text/html": [
       "<div>\n",
       "<style scoped>\n",
       "    .dataframe tbody tr th:only-of-type {\n",
       "        vertical-align: middle;\n",
       "    }\n",
       "\n",
       "    .dataframe tbody tr th {\n",
       "        vertical-align: top;\n",
       "    }\n",
       "\n",
       "    .dataframe thead th {\n",
       "        text-align: right;\n",
       "    }\n",
       "</style>\n",
       "<table border=\"1\" class=\"dataframe\">\n",
       "  <thead>\n",
       "    <tr style=\"text-align: right;\">\n",
       "      <th></th>\n",
       "      <th>A</th>\n",
       "      <th>B</th>\n",
       "      <th>C</th>\n",
       "      <th>D</th>\n",
       "      <th>E</th>\n",
       "      <th>F</th>\n",
       "      <th>G</th>\n",
       "    </tr>\n",
       "  </thead>\n",
       "  <tbody>\n",
       "    <tr>\n",
       "      <th>2020-04-01</th>\n",
       "      <td>1.0</td>\n",
       "      <td>test</td>\n",
       "      <td>2020-04-01</td>\n",
       "      <td>1.0</td>\n",
       "      <td>foo</td>\n",
       "      <td>3</td>\n",
       "      <td>1</td>\n",
       "    </tr>\n",
       "    <tr>\n",
       "      <th>2020-04-02</th>\n",
       "      <td>1.0</td>\n",
       "      <td>train</td>\n",
       "      <td>2020-04-01</td>\n",
       "      <td>1.0</td>\n",
       "      <td>foo</td>\n",
       "      <td>3</td>\n",
       "      <td>3</td>\n",
       "    </tr>\n",
       "    <tr>\n",
       "      <th>2020-04-03</th>\n",
       "      <td>1.0</td>\n",
       "      <td>train</td>\n",
       "      <td>2020-04-01</td>\n",
       "      <td>1.0</td>\n",
       "      <td>foo</td>\n",
       "      <td>3</td>\n",
       "      <td>4</td>\n",
       "    </tr>\n",
       "    <tr>\n",
       "      <th>2020-04-04</th>\n",
       "      <td>1.0</td>\n",
       "      <td>test</td>\n",
       "      <td>2020-04-01</td>\n",
       "      <td>1.0</td>\n",
       "      <td>foo</td>\n",
       "      <td>3</td>\n",
       "      <td>5</td>\n",
       "    </tr>\n",
       "  </tbody>\n",
       "</table>\n",
       "</div>"
      ],
      "text/plain": [
       "              A      B          C    D    E  F  G\n",
       "2020-04-01  1.0   test 2020-04-01  1.0  foo  3  1\n",
       "2020-04-02  1.0  train 2020-04-01  1.0  foo  3  3\n",
       "2020-04-03  1.0  train 2020-04-01  1.0  foo  3  4\n",
       "2020-04-04  1.0   test 2020-04-01  1.0  foo  3  5"
      ]
     },
     "execution_count": 62,
     "metadata": {},
     "output_type": "execute_result"
    }
   ],
   "source": [
    "df_2  = pd.DataFrame({'A': np.array([1.0]*4, dtype = float),\n",
    "                     'B':pd.Categorical(['test','train','train','test']),\n",
    "                     'C':pd.Timestamp('20200401'),\n",
    "                     'D': 1.0,\n",
    "                     'E':'foo',\n",
    "                     'F': 3,\n",
    "                     'G':[1,3,4,5]}, index = index_df2)\n",
    "\n",
    "df_2"
   ]
  },
  {
   "cell_type": "code",
   "execution_count": 63,
   "metadata": {},
   "outputs": [
    {
     "data": {
      "text/plain": [
       "A           float64\n",
       "B          category\n",
       "C    datetime64[ns]\n",
       "D           float64\n",
       "E            object\n",
       "F             int64\n",
       "G             int64\n",
       "dtype: object"
      ]
     },
     "execution_count": 63,
     "metadata": {},
     "output_type": "execute_result"
    }
   ],
   "source": [
    "df_2.dtypes"
   ]
  },
  {
   "cell_type": "code",
   "execution_count": 64,
   "metadata": {},
   "outputs": [
    {
     "data": {
      "text/plain": [
       "array(['A', 'B', 'C', 'D', 'E', 'F', 'G'], dtype=object)"
      ]
     },
     "execution_count": 64,
     "metadata": {},
     "output_type": "execute_result"
    }
   ],
   "source": [
    "df_2.columns.values"
   ]
  },
  {
   "cell_type": "code",
   "execution_count": 65,
   "metadata": {},
   "outputs": [
    {
     "data": {
      "text/plain": [
       "Index(['A', 'B', 'C', 'D', 'E', 'F', 'G'], dtype='object')"
      ]
     },
     "execution_count": 65,
     "metadata": {},
     "output_type": "execute_result"
    }
   ],
   "source": [
    "df_2.columns"
   ]
  },
  {
   "cell_type": "code",
   "execution_count": 66,
   "metadata": {},
   "outputs": [
    {
     "data": {
      "text/plain": [
       "DatetimeIndex(['2020-04-01', '2020-04-02', '2020-04-03', '2020-04-04'], dtype='datetime64[ns]', freq=None)"
      ]
     },
     "execution_count": 66,
     "metadata": {},
     "output_type": "execute_result"
    }
   ],
   "source": [
    "df_2.index"
   ]
  },
  {
   "cell_type": "code",
   "execution_count": 67,
   "metadata": {},
   "outputs": [
    {
     "data": {
      "text/plain": [
       "array([[1.0, 'test', Timestamp('2020-04-01 00:00:00'), 1.0, 'foo', 3, 1],\n",
       "       [1.0, 'train', Timestamp('2020-04-01 00:00:00'), 1.0, 'foo', 3, 3],\n",
       "       [1.0, 'train', Timestamp('2020-04-01 00:00:00'), 1.0, 'foo', 3, 4],\n",
       "       [1.0, 'test', Timestamp('2020-04-01 00:00:00'), 1.0, 'foo', 3, 5]],\n",
       "      dtype=object)"
      ]
     },
     "execution_count": 67,
     "metadata": {},
     "output_type": "execute_result"
    }
   ],
   "source": [
    "df_2.to_numpy()"
   ]
  },
  {
   "cell_type": "code",
   "execution_count": 72,
   "metadata": {},
   "outputs": [
    {
     "data": {
      "text/html": [
       "<div>\n",
       "<style scoped>\n",
       "    .dataframe tbody tr th:only-of-type {\n",
       "        vertical-align: middle;\n",
       "    }\n",
       "\n",
       "    .dataframe tbody tr th {\n",
       "        vertical-align: top;\n",
       "    }\n",
       "\n",
       "    .dataframe thead th {\n",
       "        text-align: right;\n",
       "    }\n",
       "</style>\n",
       "<table border=\"1\" class=\"dataframe\">\n",
       "  <thead>\n",
       "    <tr style=\"text-align: right;\">\n",
       "      <th></th>\n",
       "      <th>G</th>\n",
       "      <th>F</th>\n",
       "      <th>E</th>\n",
       "      <th>D</th>\n",
       "      <th>C</th>\n",
       "      <th>B</th>\n",
       "      <th>A</th>\n",
       "    </tr>\n",
       "  </thead>\n",
       "  <tbody>\n",
       "    <tr>\n",
       "      <th>2020-04-01</th>\n",
       "      <td>1</td>\n",
       "      <td>3</td>\n",
       "      <td>foo</td>\n",
       "      <td>1.0</td>\n",
       "      <td>2020-04-01</td>\n",
       "      <td>test</td>\n",
       "      <td>1.0</td>\n",
       "    </tr>\n",
       "    <tr>\n",
       "      <th>2020-04-02</th>\n",
       "      <td>3</td>\n",
       "      <td>3</td>\n",
       "      <td>foo</td>\n",
       "      <td>1.0</td>\n",
       "      <td>2020-04-01</td>\n",
       "      <td>train</td>\n",
       "      <td>1.0</td>\n",
       "    </tr>\n",
       "    <tr>\n",
       "      <th>2020-04-03</th>\n",
       "      <td>4</td>\n",
       "      <td>3</td>\n",
       "      <td>foo</td>\n",
       "      <td>1.0</td>\n",
       "      <td>2020-04-01</td>\n",
       "      <td>train</td>\n",
       "      <td>1.0</td>\n",
       "    </tr>\n",
       "    <tr>\n",
       "      <th>2020-04-04</th>\n",
       "      <td>5</td>\n",
       "      <td>3</td>\n",
       "      <td>foo</td>\n",
       "      <td>1.0</td>\n",
       "      <td>2020-04-01</td>\n",
       "      <td>test</td>\n",
       "      <td>1.0</td>\n",
       "    </tr>\n",
       "  </tbody>\n",
       "</table>\n",
       "</div>"
      ],
      "text/plain": [
       "            G  F    E    D          C      B    A\n",
       "2020-04-01  1  3  foo  1.0 2020-04-01   test  1.0\n",
       "2020-04-02  3  3  foo  1.0 2020-04-01  train  1.0\n",
       "2020-04-03  4  3  foo  1.0 2020-04-01  train  1.0\n",
       "2020-04-04  5  3  foo  1.0 2020-04-01   test  1.0"
      ]
     },
     "execution_count": 72,
     "metadata": {},
     "output_type": "execute_result"
    }
   ],
   "source": [
    "df_2.sort_index(axis = 1, ascending = False)"
   ]
  },
  {
   "cell_type": "code",
   "execution_count": 70,
   "metadata": {},
   "outputs": [
    {
     "data": {
      "text/html": [
       "<div>\n",
       "<style scoped>\n",
       "    .dataframe tbody tr th:only-of-type {\n",
       "        vertical-align: middle;\n",
       "    }\n",
       "\n",
       "    .dataframe tbody tr th {\n",
       "        vertical-align: top;\n",
       "    }\n",
       "\n",
       "    .dataframe thead th {\n",
       "        text-align: right;\n",
       "    }\n",
       "</style>\n",
       "<table border=\"1\" class=\"dataframe\">\n",
       "  <thead>\n",
       "    <tr style=\"text-align: right;\">\n",
       "      <th></th>\n",
       "      <th>A</th>\n",
       "      <th>B</th>\n",
       "      <th>C</th>\n",
       "      <th>D</th>\n",
       "      <th>E</th>\n",
       "      <th>F</th>\n",
       "      <th>G</th>\n",
       "    </tr>\n",
       "  </thead>\n",
       "  <tbody>\n",
       "    <tr>\n",
       "      <th>2020-04-01</th>\n",
       "      <td>1.0</td>\n",
       "      <td>test</td>\n",
       "      <td>2020-04-01</td>\n",
       "      <td>1.0</td>\n",
       "      <td>foo</td>\n",
       "      <td>3</td>\n",
       "      <td>1</td>\n",
       "    </tr>\n",
       "    <tr>\n",
       "      <th>2020-04-02</th>\n",
       "      <td>1.0</td>\n",
       "      <td>train</td>\n",
       "      <td>2020-04-01</td>\n",
       "      <td>1.0</td>\n",
       "      <td>foo</td>\n",
       "      <td>3</td>\n",
       "      <td>3</td>\n",
       "    </tr>\n",
       "    <tr>\n",
       "      <th>2020-04-03</th>\n",
       "      <td>1.0</td>\n",
       "      <td>train</td>\n",
       "      <td>2020-04-01</td>\n",
       "      <td>1.0</td>\n",
       "      <td>foo</td>\n",
       "      <td>3</td>\n",
       "      <td>4</td>\n",
       "    </tr>\n",
       "    <tr>\n",
       "      <th>2020-04-04</th>\n",
       "      <td>1.0</td>\n",
       "      <td>test</td>\n",
       "      <td>2020-04-01</td>\n",
       "      <td>1.0</td>\n",
       "      <td>foo</td>\n",
       "      <td>3</td>\n",
       "      <td>5</td>\n",
       "    </tr>\n",
       "  </tbody>\n",
       "</table>\n",
       "</div>"
      ],
      "text/plain": [
       "              A      B          C    D    E  F  G\n",
       "2020-04-01  1.0   test 2020-04-01  1.0  foo  3  1\n",
       "2020-04-02  1.0  train 2020-04-01  1.0  foo  3  3\n",
       "2020-04-03  1.0  train 2020-04-01  1.0  foo  3  4\n",
       "2020-04-04  1.0   test 2020-04-01  1.0  foo  3  5"
      ]
     },
     "execution_count": 70,
     "metadata": {},
     "output_type": "execute_result"
    }
   ],
   "source": [
    "df_2.sort_values(by='G')"
   ]
  },
  {
   "cell_type": "markdown",
   "metadata": {},
   "source": [
    "### Accessing Values"
   ]
  },
  {
   "cell_type": "code",
   "execution_count": 85,
   "metadata": {},
   "outputs": [
    {
     "data": {
      "text/html": [
       "<div>\n",
       "<style scoped>\n",
       "    .dataframe tbody tr th:only-of-type {\n",
       "        vertical-align: middle;\n",
       "    }\n",
       "\n",
       "    .dataframe tbody tr th {\n",
       "        vertical-align: top;\n",
       "    }\n",
       "\n",
       "    .dataframe thead th {\n",
       "        text-align: right;\n",
       "    }\n",
       "</style>\n",
       "<table border=\"1\" class=\"dataframe\">\n",
       "  <thead>\n",
       "    <tr style=\"text-align: right;\">\n",
       "      <th></th>\n",
       "      <th>A</th>\n",
       "      <th>B</th>\n",
       "      <th>C</th>\n",
       "      <th>D</th>\n",
       "      <th>E</th>\n",
       "      <th>F</th>\n",
       "    </tr>\n",
       "  </thead>\n",
       "  <tbody>\n",
       "    <tr>\n",
       "      <th>2020-04-01</th>\n",
       "      <td>1.0</td>\n",
       "      <td>test</td>\n",
       "      <td>2020-04-01</td>\n",
       "      <td>1.0</td>\n",
       "      <td>foo</td>\n",
       "      <td>3</td>\n",
       "    </tr>\n",
       "    <tr>\n",
       "      <th>2020-04-02</th>\n",
       "      <td>1.0</td>\n",
       "      <td>train</td>\n",
       "      <td>2020-04-01</td>\n",
       "      <td>1.0</td>\n",
       "      <td>foo</td>\n",
       "      <td>3</td>\n",
       "    </tr>\n",
       "    <tr>\n",
       "      <th>2020-04-03</th>\n",
       "      <td>1.0</td>\n",
       "      <td>train</td>\n",
       "      <td>2020-04-01</td>\n",
       "      <td>1.0</td>\n",
       "      <td>foo</td>\n",
       "      <td>3</td>\n",
       "    </tr>\n",
       "  </tbody>\n",
       "</table>\n",
       "</div>"
      ],
      "text/plain": [
       "              A      B          C    D    E  F\n",
       "2020-04-01  1.0   test 2020-04-01  1.0  foo  3\n",
       "2020-04-02  1.0  train 2020-04-01  1.0  foo  3\n",
       "2020-04-03  1.0  train 2020-04-01  1.0  foo  3"
      ]
     },
     "execution_count": 85,
     "metadata": {},
     "output_type": "execute_result"
    }
   ],
   "source": [
    "df_2.iloc[:-1, :-1]"
   ]
  },
  {
   "cell_type": "code",
   "execution_count": 89,
   "metadata": {},
   "outputs": [
    {
     "data": {
      "text/html": [
       "<div>\n",
       "<style scoped>\n",
       "    .dataframe tbody tr th:only-of-type {\n",
       "        vertical-align: middle;\n",
       "    }\n",
       "\n",
       "    .dataframe tbody tr th {\n",
       "        vertical-align: top;\n",
       "    }\n",
       "\n",
       "    .dataframe thead th {\n",
       "        text-align: right;\n",
       "    }\n",
       "</style>\n",
       "<table border=\"1\" class=\"dataframe\">\n",
       "  <thead>\n",
       "    <tr style=\"text-align: right;\">\n",
       "      <th></th>\n",
       "      <th>A</th>\n",
       "      <th>B</th>\n",
       "    </tr>\n",
       "  </thead>\n",
       "  <tbody>\n",
       "    <tr>\n",
       "      <th>2020-04-01</th>\n",
       "      <td>1.0</td>\n",
       "      <td>test</td>\n",
       "    </tr>\n",
       "    <tr>\n",
       "      <th>2020-04-02</th>\n",
       "      <td>1.0</td>\n",
       "      <td>train</td>\n",
       "    </tr>\n",
       "    <tr>\n",
       "      <th>2020-04-03</th>\n",
       "      <td>1.0</td>\n",
       "      <td>train</td>\n",
       "    </tr>\n",
       "  </tbody>\n",
       "</table>\n",
       "</div>"
      ],
      "text/plain": [
       "              A      B\n",
       "2020-04-01  1.0   test\n",
       "2020-04-02  1.0  train\n",
       "2020-04-03  1.0  train"
      ]
     },
     "execution_count": 89,
     "metadata": {},
     "output_type": "execute_result"
    }
   ],
   "source": [
    "df_2.iloc[:-1, [df_2.columns.get_loc('A'), df_2.columns.get_loc('B')]]"
   ]
  },
  {
   "cell_type": "code",
   "execution_count": 92,
   "metadata": {},
   "outputs": [
    {
     "data": {
      "text/html": [
       "<div>\n",
       "<style scoped>\n",
       "    .dataframe tbody tr th:only-of-type {\n",
       "        vertical-align: middle;\n",
       "    }\n",
       "\n",
       "    .dataframe tbody tr th {\n",
       "        vertical-align: top;\n",
       "    }\n",
       "\n",
       "    .dataframe thead th {\n",
       "        text-align: right;\n",
       "    }\n",
       "</style>\n",
       "<table border=\"1\" class=\"dataframe\">\n",
       "  <thead>\n",
       "    <tr style=\"text-align: right;\">\n",
       "      <th></th>\n",
       "      <th>A</th>\n",
       "      <th>B</th>\n",
       "    </tr>\n",
       "  </thead>\n",
       "  <tbody>\n",
       "    <tr>\n",
       "      <th>2020-04-01</th>\n",
       "      <td>1.0</td>\n",
       "      <td>test</td>\n",
       "    </tr>\n",
       "    <tr>\n",
       "      <th>2020-04-02</th>\n",
       "      <td>1.0</td>\n",
       "      <td>train</td>\n",
       "    </tr>\n",
       "    <tr>\n",
       "      <th>2020-04-03</th>\n",
       "      <td>1.0</td>\n",
       "      <td>train</td>\n",
       "    </tr>\n",
       "  </tbody>\n",
       "</table>\n",
       "</div>"
      ],
      "text/plain": [
       "              A      B\n",
       "2020-04-01  1.0   test\n",
       "2020-04-02  1.0  train\n",
       "2020-04-03  1.0  train"
      ]
     },
     "execution_count": 92,
     "metadata": {},
     "output_type": "execute_result"
    }
   ],
   "source": [
    "#df_2.iloc[:-1, df_2.columns.get_loc(['A', 'B'])]\n",
    "\n",
    "df_2.iloc[:-1, [df_2.columns.get_loc(col) for col in ['A', 'B']]]\n"
   ]
  },
  {
   "cell_type": "code",
   "execution_count": 114,
   "metadata": {},
   "outputs": [
    {
     "data": {
      "text/html": [
       "<div>\n",
       "<style scoped>\n",
       "    .dataframe tbody tr th:only-of-type {\n",
       "        vertical-align: middle;\n",
       "    }\n",
       "\n",
       "    .dataframe tbody tr th {\n",
       "        vertical-align: top;\n",
       "    }\n",
       "\n",
       "    .dataframe thead th {\n",
       "        text-align: right;\n",
       "    }\n",
       "</style>\n",
       "<table border=\"1\" class=\"dataframe\">\n",
       "  <thead>\n",
       "    <tr style=\"text-align: right;\">\n",
       "      <th></th>\n",
       "      <th>A</th>\n",
       "      <th>B</th>\n",
       "      <th>C</th>\n",
       "      <th>D</th>\n",
       "      <th>E</th>\n",
       "      <th>F</th>\n",
       "      <th>G</th>\n",
       "    </tr>\n",
       "  </thead>\n",
       "  <tbody>\n",
       "    <tr>\n",
       "      <th>2020-04-02</th>\n",
       "      <td>1.0</td>\n",
       "      <td>train</td>\n",
       "      <td>2020-04-01</td>\n",
       "      <td>1.0</td>\n",
       "      <td>foo</td>\n",
       "      <td>3</td>\n",
       "      <td>3</td>\n",
       "    </tr>\n",
       "    <tr>\n",
       "      <th>2020-04-03</th>\n",
       "      <td>1.0</td>\n",
       "      <td>train</td>\n",
       "      <td>2020-04-01</td>\n",
       "      <td>1.0</td>\n",
       "      <td>foo</td>\n",
       "      <td>3</td>\n",
       "      <td>4</td>\n",
       "    </tr>\n",
       "    <tr>\n",
       "      <th>2020-04-04</th>\n",
       "      <td>1.0</td>\n",
       "      <td>test</td>\n",
       "      <td>2020-04-01</td>\n",
       "      <td>1.0</td>\n",
       "      <td>foo</td>\n",
       "      <td>3</td>\n",
       "      <td>5</td>\n",
       "    </tr>\n",
       "  </tbody>\n",
       "</table>\n",
       "</div>"
      ],
      "text/plain": [
       "              A      B          C    D    E  F  G\n",
       "2020-04-02  1.0  train 2020-04-01  1.0  foo  3  3\n",
       "2020-04-03  1.0  train 2020-04-01  1.0  foo  3  4\n",
       "2020-04-04  1.0   test 2020-04-01  1.0  foo  3  5"
      ]
     },
     "execution_count": 114,
     "metadata": {},
     "output_type": "execute_result"
    }
   ],
   "source": [
    "\n",
    "df_2[df_2['B'].isin(['test'])]\n",
    "\n",
    "df_2[df_2['G']>2]"
   ]
  },
  {
   "cell_type": "code",
   "execution_count": 115,
   "metadata": {},
   "outputs": [],
   "source": [
    "s1 = pd.Series([1,2,3,4,5,6,6], index = pd.date_range('20200401', periods = 7))"
   ]
  },
  {
   "cell_type": "code",
   "execution_count": 121,
   "metadata": {},
   "outputs": [],
   "source": [
    "df2 = df_2.copy()"
   ]
  },
  {
   "cell_type": "code",
   "execution_count": 131,
   "metadata": {},
   "outputs": [],
   "source": [
    "df3 = df2.reset_index()"
   ]
  },
  {
   "cell_type": "code",
   "execution_count": 139,
   "metadata": {},
   "outputs": [
    {
     "data": {
      "text/html": [
       "<div>\n",
       "<style scoped>\n",
       "    .dataframe tbody tr th:only-of-type {\n",
       "        vertical-align: middle;\n",
       "    }\n",
       "\n",
       "    .dataframe tbody tr th {\n",
       "        vertical-align: top;\n",
       "    }\n",
       "\n",
       "    .dataframe thead th {\n",
       "        text-align: right;\n",
       "    }\n",
       "</style>\n",
       "<table border=\"1\" class=\"dataframe\">\n",
       "  <thead>\n",
       "    <tr style=\"text-align: right;\">\n",
       "      <th></th>\n",
       "      <th>index</th>\n",
       "      <th>A</th>\n",
       "      <th>B</th>\n",
       "      <th>C</th>\n",
       "      <th>D</th>\n",
       "      <th>E</th>\n",
       "      <th>F</th>\n",
       "      <th>G</th>\n",
       "    </tr>\n",
       "  </thead>\n",
       "  <tbody>\n",
       "    <tr>\n",
       "      <th>0</th>\n",
       "      <td>2020-04-01</td>\n",
       "      <td>1.0</td>\n",
       "      <td>test</td>\n",
       "      <td>2020-04-01</td>\n",
       "      <td>1.0</td>\n",
       "      <td>foo</td>\n",
       "      <td>3</td>\n",
       "      <td>1</td>\n",
       "    </tr>\n",
       "    <tr>\n",
       "      <th>1</th>\n",
       "      <td>2020-04-02</td>\n",
       "      <td>1.0</td>\n",
       "      <td>train</td>\n",
       "      <td>2020-04-01</td>\n",
       "      <td>1.0</td>\n",
       "      <td>foo</td>\n",
       "      <td>3</td>\n",
       "      <td>3</td>\n",
       "    </tr>\n",
       "    <tr>\n",
       "      <th>2</th>\n",
       "      <td>2020-04-03</td>\n",
       "      <td>1.0</td>\n",
       "      <td>train</td>\n",
       "      <td>2020-04-01</td>\n",
       "      <td>1.0</td>\n",
       "      <td>foo</td>\n",
       "      <td>3</td>\n",
       "      <td>4</td>\n",
       "    </tr>\n",
       "    <tr>\n",
       "      <th>3</th>\n",
       "      <td>2020-04-04</td>\n",
       "      <td>1.0</td>\n",
       "      <td>test</td>\n",
       "      <td>2020-04-01</td>\n",
       "      <td>1.0</td>\n",
       "      <td>foo</td>\n",
       "      <td>3</td>\n",
       "      <td>5</td>\n",
       "    </tr>\n",
       "  </tbody>\n",
       "</table>\n",
       "</div>"
      ],
      "text/plain": [
       "       index    A      B          C    D    E  F  G\n",
       "0 2020-04-01  1.0   test 2020-04-01  1.0  foo  3  1\n",
       "1 2020-04-02  1.0  train 2020-04-01  1.0  foo  3  3\n",
       "2 2020-04-03  1.0  train 2020-04-01  1.0  foo  3  4\n",
       "3 2020-04-04  1.0   test 2020-04-01  1.0  foo  3  5"
      ]
     },
     "execution_count": 139,
     "metadata": {},
     "output_type": "execute_result"
    }
   ],
   "source": [
    "df3"
   ]
  },
  {
   "cell_type": "code",
   "execution_count": 140,
   "metadata": {},
   "outputs": [],
   "source": [
    "x1 = np.linspace(0, 5)"
   ]
  },
  {
   "cell_type": "code",
   "execution_count": 141,
   "metadata": {},
   "outputs": [
    {
     "data": {
      "text/plain": [
       "array([0.        , 0.10204082, 0.20408163, 0.30612245, 0.40816327,\n",
       "       0.51020408, 0.6122449 , 0.71428571, 0.81632653, 0.91836735,\n",
       "       1.02040816, 1.12244898, 1.2244898 , 1.32653061, 1.42857143,\n",
       "       1.53061224, 1.63265306, 1.73469388, 1.83673469, 1.93877551,\n",
       "       2.04081633, 2.14285714, 2.24489796, 2.34693878, 2.44897959,\n",
       "       2.55102041, 2.65306122, 2.75510204, 2.85714286, 2.95918367,\n",
       "       3.06122449, 3.16326531, 3.26530612, 3.36734694, 3.46938776,\n",
       "       3.57142857, 3.67346939, 3.7755102 , 3.87755102, 3.97959184,\n",
       "       4.08163265, 4.18367347, 4.28571429, 4.3877551 , 4.48979592,\n",
       "       4.59183673, 4.69387755, 4.79591837, 4.89795918, 5.        ])"
      ]
     },
     "execution_count": 141,
     "metadata": {},
     "output_type": "execute_result"
    }
   ],
   "source": [
    "x1"
   ]
  },
  {
   "cell_type": "markdown",
   "metadata": {},
   "source": [
    "### Categorical Data"
   ]
  },
  {
   "cell_type": "code",
   "execution_count": 3,
   "metadata": {},
   "outputs": [],
   "source": [
    "df = pd.DataFrame({\"id\": [1, 2, 3, 4, 5, 6], \"raw_grade\": ['a', 'b', 'b', 'a', 'a', 'e']})"
   ]
  },
  {
   "cell_type": "code",
   "execution_count": 5,
   "metadata": {},
   "outputs": [],
   "source": [
    "df[\"grade\"] = df[\"raw_grade\"].astype(\"category\")"
   ]
  },
  {
   "cell_type": "code",
   "execution_count": 7,
   "metadata": {},
   "outputs": [
    {
     "data": {
      "text/html": [
       "<div>\n",
       "<style scoped>\n",
       "    .dataframe tbody tr th:only-of-type {\n",
       "        vertical-align: middle;\n",
       "    }\n",
       "\n",
       "    .dataframe tbody tr th {\n",
       "        vertical-align: top;\n",
       "    }\n",
       "\n",
       "    .dataframe thead th {\n",
       "        text-align: right;\n",
       "    }\n",
       "</style>\n",
       "<table border=\"1\" class=\"dataframe\">\n",
       "  <thead>\n",
       "    <tr style=\"text-align: right;\">\n",
       "      <th></th>\n",
       "      <th>id</th>\n",
       "      <th>raw_grade</th>\n",
       "      <th>grade</th>\n",
       "    </tr>\n",
       "  </thead>\n",
       "  <tbody>\n",
       "    <tr>\n",
       "      <th>0</th>\n",
       "      <td>1</td>\n",
       "      <td>a</td>\n",
       "      <td>very good</td>\n",
       "    </tr>\n",
       "    <tr>\n",
       "      <th>1</th>\n",
       "      <td>2</td>\n",
       "      <td>b</td>\n",
       "      <td>good</td>\n",
       "    </tr>\n",
       "    <tr>\n",
       "      <th>2</th>\n",
       "      <td>3</td>\n",
       "      <td>b</td>\n",
       "      <td>good</td>\n",
       "    </tr>\n",
       "    <tr>\n",
       "      <th>3</th>\n",
       "      <td>4</td>\n",
       "      <td>a</td>\n",
       "      <td>very good</td>\n",
       "    </tr>\n",
       "    <tr>\n",
       "      <th>4</th>\n",
       "      <td>5</td>\n",
       "      <td>a</td>\n",
       "      <td>very good</td>\n",
       "    </tr>\n",
       "    <tr>\n",
       "      <th>5</th>\n",
       "      <td>6</td>\n",
       "      <td>e</td>\n",
       "      <td>very bad</td>\n",
       "    </tr>\n",
       "  </tbody>\n",
       "</table>\n",
       "</div>"
      ],
      "text/plain": [
       "   id raw_grade      grade\n",
       "0   1         a  very good\n",
       "1   2         b       good\n",
       "2   3         b       good\n",
       "3   4         a  very good\n",
       "4   5         a  very good\n",
       "5   6         e   very bad"
      ]
     },
     "execution_count": 7,
     "metadata": {},
     "output_type": "execute_result"
    }
   ],
   "source": [
    "df[\"grade\"].cat.categories = [\"very good\", \"good\", \"very bad\"]\n",
    "df"
   ]
  },
  {
   "cell_type": "code",
   "execution_count": 8,
   "metadata": {},
   "outputs": [
    {
     "data": {
      "text/html": [
       "<div>\n",
       "<style scoped>\n",
       "    .dataframe tbody tr th:only-of-type {\n",
       "        vertical-align: middle;\n",
       "    }\n",
       "\n",
       "    .dataframe tbody tr th {\n",
       "        vertical-align: top;\n",
       "    }\n",
       "\n",
       "    .dataframe thead th {\n",
       "        text-align: right;\n",
       "    }\n",
       "</style>\n",
       "<table border=\"1\" class=\"dataframe\">\n",
       "  <thead>\n",
       "    <tr style=\"text-align: right;\">\n",
       "      <th></th>\n",
       "      <th>id</th>\n",
       "      <th>raw_grade</th>\n",
       "      <th>grade</th>\n",
       "    </tr>\n",
       "  </thead>\n",
       "  <tbody>\n",
       "    <tr>\n",
       "      <th>0</th>\n",
       "      <td>1</td>\n",
       "      <td>a</td>\n",
       "      <td>very good</td>\n",
       "    </tr>\n",
       "    <tr>\n",
       "      <th>1</th>\n",
       "      <td>2</td>\n",
       "      <td>b</td>\n",
       "      <td>good</td>\n",
       "    </tr>\n",
       "    <tr>\n",
       "      <th>2</th>\n",
       "      <td>3</td>\n",
       "      <td>b</td>\n",
       "      <td>good</td>\n",
       "    </tr>\n",
       "    <tr>\n",
       "      <th>3</th>\n",
       "      <td>4</td>\n",
       "      <td>a</td>\n",
       "      <td>very good</td>\n",
       "    </tr>\n",
       "    <tr>\n",
       "      <th>4</th>\n",
       "      <td>5</td>\n",
       "      <td>a</td>\n",
       "      <td>very good</td>\n",
       "    </tr>\n",
       "    <tr>\n",
       "      <th>5</th>\n",
       "      <td>6</td>\n",
       "      <td>e</td>\n",
       "      <td>very bad</td>\n",
       "    </tr>\n",
       "  </tbody>\n",
       "</table>\n",
       "</div>"
      ],
      "text/plain": [
       "   id raw_grade      grade\n",
       "0   1         a  very good\n",
       "1   2         b       good\n",
       "2   3         b       good\n",
       "3   4         a  very good\n",
       "4   5         a  very good\n",
       "5   6         e   very bad"
      ]
     },
     "execution_count": 8,
     "metadata": {},
     "output_type": "execute_result"
    }
   ],
   "source": [
    "df[\"grade\"] = df[\"grade\"].cat.set_categories([\"very bad\", \"bad\", \"medium\", \"good\", \"very good\"])\n",
    "df"
   ]
  },
  {
   "cell_type": "markdown",
   "metadata": {},
   "source": [
    "\n",
    "# PySpark"
   ]
  },
  {
   "cell_type": "code",
   "execution_count": 11,
   "metadata": {},
   "outputs": [],
   "source": [
    "from pyspark.sql import SparkSession"
   ]
  },
  {
   "cell_type": "code",
   "execution_count": null,
   "metadata": {},
   "outputs": [],
   "source": []
  }
 ],
 "metadata": {
  "kernelspec": {
   "display_name": "Python 3",
   "language": "python",
   "name": "python3"
  },
  "language_info": {
   "codemirror_mode": {
    "name": "ipython",
    "version": 3
   },
   "file_extension": ".py",
   "mimetype": "text/x-python",
   "name": "python",
   "nbconvert_exporter": "python",
   "pygments_lexer": "ipython3",
   "version": "3.7.3"
  }
 },
 "nbformat": 4,
 "nbformat_minor": 2
}
